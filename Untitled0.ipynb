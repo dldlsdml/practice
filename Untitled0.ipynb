{
  "nbformat": 4,
  "nbformat_minor": 0,
  "metadata": {
    "colab": {
      "provenance": [],
      "authorship_tag": "ABX9TyPdN7fyIpGc7x4Pp+I5tyxG",
      "include_colab_link": true
    },
    "kernelspec": {
      "name": "python3",
      "display_name": "Python 3"
    },
    "language_info": {
      "name": "python"
    }
  },
  "cells": [
    {
      "cell_type": "markdown",
      "metadata": {
        "id": "view-in-github",
        "colab_type": "text"
      },
      "source": [
        "<a href=\"https://colab.research.google.com/github/dldlsdml/practice/blob/main/Untitled0.ipynb\" target=\"_parent\"><img src=\"https://colab.research.google.com/assets/colab-badge.svg\" alt=\"Open In Colab\"/></a>"
      ]
    },
    {
      "cell_type": "code",
      "execution_count": null,
      "metadata": {
        "colab": {
          "base_uri": "https://localhost:8080/"
        },
        "id": "RCVHuC5UHum6",
        "outputId": "04f10f75-685b-44c5-892a-a16ab02d9243"
      },
      "outputs": [
        {
          "output_type": "stream",
          "name": "stdout",
          "text": [
            "Hello World\n"
          ]
        }
      ],
      "source": [
        "print(\"Hello World\")"
      ]
    },
    {
      "cell_type": "code",
      "source": [
        "type(10)"
      ],
      "metadata": {
        "colab": {
          "base_uri": "https://localhost:8080/"
        },
        "id": "CCIqMJ7XlHKT",
        "outputId": "ab32a91f-1883-4b7f-fa50-707f57666e3a"
      },
      "execution_count": null,
      "outputs": [
        {
          "output_type": "execute_result",
          "data": {
            "text/plain": [
              "int"
            ]
          },
          "metadata": {},
          "execution_count": 3
        }
      ]
    },
    {
      "cell_type": "code",
      "source": [
        "a=1\n",
        "b=2\n",
        "print(a+b)"
      ],
      "metadata": {
        "colab": {
          "base_uri": "https://localhost:8080/"
        },
        "id": "pGKQfJNvJfE5",
        "outputId": "8264e383-49e3-4c22-8345-2b3878925381"
      },
      "execution_count": null,
      "outputs": [
        {
          "output_type": "stream",
          "name": "stdout",
          "text": [
            "3\n"
          ]
        }
      ]
    },
    {
      "cell_type": "code",
      "source": [
        "drink='오렌지주스'\n",
        "food='고기'\n",
        "print(\"나는\" +drink+ \"에\" +food+ \"를 먹는 것을 좋아해요\")"
      ],
      "metadata": {
        "colab": {
          "base_uri": "https://localhost:8080/"
        },
        "id": "UwlmhFaEJwwk",
        "outputId": "575040b7-2a5d-447a-f2b7-8d94df239058"
      },
      "execution_count": null,
      "outputs": [
        {
          "output_type": "stream",
          "name": "stdout",
          "text": [
            "나는오렌지주스에고기를 먹는 것을 좋아해요\n"
          ]
        }
      ]
    },
    {
      "cell_type": "code",
      "source": [
        "print(\"나는 {1} 랑 {0} 을 먹는 것을 좋아해요 \".format(drink,food))"
      ],
      "metadata": {
        "colab": {
          "base_uri": "https://localhost:8080/"
        },
        "id": "pbzfn7FkJ3Qo",
        "outputId": "72735554-f5f1-492a-f5d1-f9652de2d723"
      },
      "execution_count": null,
      "outputs": [
        {
          "output_type": "stream",
          "name": "stdout",
          "text": [
            "나는 고기 랑 오렌지주스 을 먹는 것을 좋아해요 \n"
          ]
        }
      ]
    },
    {
      "cell_type": "code",
      "source": [
        "a=20\n",
        "b=3\n",
        "a/b"
      ],
      "metadata": {
        "colab": {
          "base_uri": "https://localhost:8080/"
        },
        "id": "f9h6tKHBmbdv",
        "outputId": "da9b1a5a-b01d-42a4-c314-c4453b4da576"
      },
      "execution_count": null,
      "outputs": [
        {
          "output_type": "execute_result",
          "data": {
            "text/plain": [
              "6.666666666666667"
            ]
          },
          "metadata": {},
          "execution_count": 4
        }
      ]
    },
    {
      "cell_type": "code",
      "source": [
        "a//b"
      ],
      "metadata": {
        "colab": {
          "base_uri": "https://localhost:8080/"
        },
        "id": "rmpj0Xn6ml3n",
        "outputId": "9b9487b7-0ab3-48f2-c1be-b422925ba057"
      },
      "execution_count": null,
      "outputs": [
        {
          "output_type": "execute_result",
          "data": {
            "text/plain": [
              "6"
            ]
          },
          "metadata": {},
          "execution_count": 5
        }
      ]
    },
    {
      "cell_type": "code",
      "source": [
        "a%b"
      ],
      "metadata": {
        "colab": {
          "base_uri": "https://localhost:8080/"
        },
        "id": "p2G0pGQ2mqe3",
        "outputId": "01a3ba51-10d1-4de7-a069-f48b99642d8c"
      },
      "execution_count": null,
      "outputs": [
        {
          "output_type": "execute_result",
          "data": {
            "text/plain": [
              "2"
            ]
          },
          "metadata": {},
          "execution_count": 7
        }
      ]
    },
    {
      "cell_type": "code",
      "source": [
        "text=\"\"\"숫자와\n",
        "문자는 \n",
        "다르니까\"\"\"\n",
        "print(text)"
      ],
      "metadata": {
        "colab": {
          "base_uri": "https://localhost:8080/"
        },
        "id": "itJcI_tLmu4z",
        "outputId": "cae5c03d-247b-4670-e8d3-da2fecc8d31d"
      },
      "execution_count": null,
      "outputs": [
        {
          "output_type": "stream",
          "name": "stdout",
          "text": [
            "숫자와\n",
            "문자는 \n",
            "다르니까\n"
          ]
        }
      ]
    },
    {
      "cell_type": "code",
      "source": [
        "a=[1, 3, 7]\n",
        "a[0]\n",
        "a[1]=8\n",
        "a"
      ],
      "metadata": {
        "id": "l7ABYiqdrSNd",
        "colab": {
          "base_uri": "https://localhost:8080/"
        },
        "outputId": "8ee3516e-7b5d-465f-9d0d-4ecff6a2d621"
      },
      "execution_count": null,
      "outputs": [
        {
          "output_type": "execute_result",
          "data": {
            "text/plain": [
              "[1, 8, 7]"
            ]
          },
          "metadata": {},
          "execution_count": 10
        }
      ]
    },
    {
      "cell_type": "code",
      "source": [
        "a[-1]"
      ],
      "metadata": {
        "colab": {
          "base_uri": "https://localhost:8080/"
        },
        "id": "aatKX6Jpn7rP",
        "outputId": "ca2b184c-5961-4ee7-bd87-abe1751a0a03"
      },
      "execution_count": null,
      "outputs": [
        {
          "output_type": "execute_result",
          "data": {
            "text/plain": [
              "7"
            ]
          },
          "metadata": {},
          "execution_count": 4
        }
      ]
    },
    {
      "cell_type": "code",
      "source": [
        "d1={'name':'서윤', 'age':20}\n",
        "d1['name']"
      ],
      "metadata": {
        "colab": {
          "base_uri": "https://localhost:8080/",
          "height": 35
        },
        "id": "n94k8Z9WoEy0",
        "outputId": "d8dde4b1-8399-4bab-cc77-97c62fc01a79"
      },
      "execution_count": null,
      "outputs": [
        {
          "output_type": "execute_result",
          "data": {
            "text/plain": [
              "'서윤'"
            ],
            "application/vnd.google.colaboratory.intrinsic+json": {
              "type": "string"
            }
          },
          "metadata": {},
          "execution_count": 7
        }
      ]
    },
    {
      "cell_type": "code",
      "source": [
        "a=int(input())\n",
        "if a>20 :\n",
        "  print(\"20보다커\")\n",
        "elif a>10 :\n",
        "  print(\"10보다 커\")\n",
        "else :\n",
        "  print(\"작다\")"
      ],
      "metadata": {
        "colab": {
          "base_uri": "https://localhost:8080/"
        },
        "id": "x3p5vsFnojgy",
        "outputId": "24347638-41bf-496e-b328-94769caca40e"
      },
      "execution_count": null,
      "outputs": [
        {
          "output_type": "stream",
          "name": "stdout",
          "text": [
            "30\n",
            "20보다커\n"
          ]
        }
      ]
    },
    {
      "cell_type": "code",
      "source": [
        "print(\"짜장면, 짬뽕, 탕수육 중에 고르세요.\")\n",
        "food=input()\n",
        "if food==\"짜장면\":\n",
        "  print(\"당신은 짜장면을 좋아하는 사람이군요.\")\n",
        "elif food==\"짬뽕\":\n",
        "  print(\"당신은 짬뽕을 좋아하는 사람이군요.\")\n",
        "elif food==\"탕수육\":\n",
        "  print(\"당신은 탕수육을 좋아하는 사람이군요.\")\n",
        "else:\n",
        "  print(\"당신은 중국집을 싫어하는군요.\")"
      ],
      "metadata": {
        "colab": {
          "base_uri": "https://localhost:8080/"
        },
        "id": "FVmu-g3UsMhV",
        "outputId": "349d4f0a-bde3-412c-e539-b15090e7bf8d"
      },
      "execution_count": null,
      "outputs": [
        {
          "output_type": "stream",
          "name": "stdout",
          "text": [
            "짜장면, 짬뽕, 탕수육 중에 고르세요.\n",
            "짜장면\n",
            "당신은 짜장면을 좋아하는 사람이군요.\n"
          ]
        }
      ]
    },
    {
      "cell_type": "code",
      "source": [
        "menu={}\n",
        "menu[\"짜장면\"]=\"당신은 짜장면을 좋아하는 사람이군요.\"\n",
        "menu[\"짬뽕\"]=\"당신은 짬뽕을 좋아하는 사람이군요.\"\n",
        "menu[\"탕수육\"]=\"당신은 탕수육을 좋아하는 사람이군요.\"\n",
        "\n",
        "print(\"짜장면, 짬뽕, 탕수육 중에 고르세요.\")\n",
        "food=input()\n",
        "\n",
        "if food in menu:\n",
        "  print(menu[food])\n",
        "else:\n",
        "  print(\"당신은 중국집을 싫어하는군요.\")"
      ],
      "metadata": {
        "colab": {
          "base_uri": "https://localhost:8080/"
        },
        "id": "3dGDRf7pE4Lp",
        "outputId": "c67eae69-aa09-49f6-e735-e79bd15e40a3"
      },
      "execution_count": null,
      "outputs": [
        {
          "output_type": "stream",
          "name": "stdout",
          "text": [
            "짜장면, 짬뽕, 탕수육 중에 고르세요.\n",
            "탕수육\n",
            "당신은 탕수육을 좋아하는 사람이군요.\n"
          ]
        }
      ]
    },
    {
      "cell_type": "code",
      "source": [
        "print(\"혈액형과 태어난 달을 넣어주세요.\")\n",
        "bt=input()\n",
        "m=input()\n",
        "if bt==\"A\":\n",
        "  if m==\"12\":\n",
        "    print(\"당신은 엄청 소심하시군요.\")\n",
        "  else:\n",
        "    print(\"12월 생이 아니면, 덜 소심합니다.\")\n",
        "elif bt==\"B\":\n",
        "  if m==\"1\":\n",
        "    print(\"당신은 엄청 까칠하시군요.\")\n",
        "  elif m==\"3\":\n",
        "    print(\"당신은 조금 까칠하시군요.\")\n",
        "else:\n",
        "  print(\"돈을 내시면 더 볼 수 있습니다.\")"
      ],
      "metadata": {
        "colab": {
          "base_uri": "https://localhost:8080/"
        },
        "id": "qYmXeb_IuscK",
        "outputId": "1f965d3e-e7b2-47bb-bb3d-8e5cdbb30ec3"
      },
      "execution_count": null,
      "outputs": [
        {
          "output_type": "stream",
          "name": "stdout",
          "text": [
            "혈액형과 태어난 달을 넣어주세요.\n",
            "B\n",
            "3\n",
            "당신은 조금 까칠하시군요.\n"
          ]
        }
      ]
    },
    {
      "cell_type": "code",
      "source": [
        "draw={}\n",
        "draw[\"1\"]=\"초코맛입니다!\"\n",
        "draw[\"2\"]=\"딸기맛입니다!\"\n",
        "draw[\"3\"]=\"바나나맛입니다!\"\n",
        "draw[\"4\"]=\"레몬맛입니다!\"\n",
        "\n",
        "for num in range(3):\n",
        "  print(\"뽑은 번호를 입력하세요. / end를 입력하면 종료됩니다.\")\n",
        "  candy=input()\n",
        "\n",
        "  if \"end\" in candy:\n",
        "    print(\"뽑기가 종료되었습니다.\")\n",
        "    break\n",
        "\n",
        "  if candy in draw :\n",
        "    print(draw[candy])\n",
        "  else :\n",
        "   print(\"꽝\")\n",
        "\n"
      ],
      "metadata": {
        "colab": {
          "base_uri": "https://localhost:8080/"
        },
        "id": "IeqcQtfwDWUz",
        "outputId": "392797e8-0468-47d1-8fc1-659f4c5611c2"
      },
      "execution_count": null,
      "outputs": [
        {
          "output_type": "stream",
          "name": "stdout",
          "text": [
            "뽑은 번호를 입력하세요. / end를 입력하면 종료됩니다.\n",
            "end\n",
            "뽑기가 종료되었습니다.\n"
          ]
        }
      ]
    },
    {
      "cell_type": "code",
      "source": [
        "list2 = [1, \"rk\", \"kk\"]\n",
        "\n",
        "list2[-1]"
      ],
      "metadata": {
        "colab": {
          "base_uri": "https://localhost:8080/",
          "height": 35
        },
        "id": "2jO-ImmCsonS",
        "outputId": "0c2e962f-2dcc-4c51-b640-3e5e9904f4dc"
      },
      "execution_count": null,
      "outputs": [
        {
          "output_type": "execute_result",
          "data": {
            "text/plain": [
              "'kk'"
            ],
            "application/vnd.google.colaboratory.intrinsic+json": {
              "type": "string"
            }
          },
          "metadata": {},
          "execution_count": 3
        }
      ]
    },
    {
      "cell_type": "code",
      "source": [
        "t = (1, \"rk\", \"kk\")\n",
        "\n",
        "t[-1]"
      ],
      "metadata": {
        "colab": {
          "base_uri": "https://localhost:8080/",
          "height": 35
        },
        "id": "Ozx_NFfEs8IO",
        "outputId": "0d2ea086-5874-48fb-896e-0dded9f17e8e"
      },
      "execution_count": null,
      "outputs": [
        {
          "output_type": "execute_result",
          "data": {
            "text/plain": [
              "'kk'"
            ],
            "application/vnd.google.colaboratory.intrinsic+json": {
              "type": "string"
            }
          },
          "metadata": {},
          "execution_count": 4
        }
      ]
    },
    {
      "cell_type": "code",
      "source": [
        "list2[0] = \"ch\"\n",
        "list2"
      ],
      "metadata": {
        "colab": {
          "base_uri": "https://localhost:8080/"
        },
        "id": "vJBGrFxetGfU",
        "outputId": "b0e39810-8da9-464e-93a1-15ef4358cb44"
      },
      "execution_count": null,
      "outputs": [
        {
          "output_type": "execute_result",
          "data": {
            "text/plain": [
              "['ch', 'rk', 'kk']"
            ]
          },
          "metadata": {},
          "execution_count": 5
        }
      ]
    },
    {
      "cell_type": "code",
      "source": [
        "t[0] = 'ch'\n",
        "t"
      ],
      "metadata": {
        "colab": {
          "base_uri": "https://localhost:8080/",
          "height": 190
        },
        "id": "LCnN1ifMtUUC",
        "outputId": "7aa24c0b-0902-4efa-8fe7-ed46b4652c38"
      },
      "execution_count": null,
      "outputs": [
        {
          "output_type": "error",
          "ename": "TypeError",
          "evalue": "ignored",
          "traceback": [
            "\u001b[0;31m---------------------------------------------------------------------------\u001b[0m",
            "\u001b[0;31mTypeError\u001b[0m                                 Traceback (most recent call last)",
            "\u001b[0;32m<ipython-input-6-211e8671a109>\u001b[0m in \u001b[0;36m<module>\u001b[0;34m\u001b[0m\n\u001b[0;32m----> 1\u001b[0;31m \u001b[0mt\u001b[0m\u001b[0;34m[\u001b[0m\u001b[0;36m0\u001b[0m\u001b[0;34m]\u001b[0m \u001b[0;34m=\u001b[0m \u001b[0;34m'ch'\u001b[0m\u001b[0;34m\u001b[0m\u001b[0;34m\u001b[0m\u001b[0m\n\u001b[0m\u001b[1;32m      2\u001b[0m \u001b[0mt\u001b[0m\u001b[0;34m\u001b[0m\u001b[0;34m\u001b[0m\u001b[0m\n",
            "\u001b[0;31mTypeError\u001b[0m: 'tuple' object does not support item assignment"
          ]
        }
      ]
    },
    {
      "cell_type": "code",
      "source": [
        "ttd = {\n",
        "1  : {\"survived\":0, \"fare\":7.25,  \"age\": 22,\"name\":\"Braund, Mr. Owen Harris\"},\n",
        "2  : {\"survived\":1, \"fare\":71.2833,  \"age\": 38,\"name\":\"Cumings, Mrs. John Bradley (Florence Briggs Thayer)\"},\n",
        "3  : {\"survived\":1, \"fare\":7.925,  \"age\": 26,\"name\":\"Heikkinen, Miss. Laina\"},\n",
        "4  : {\"survived\":1, \"fare\":53.1,  \"age\": 35,\"name\":\"Futrelle, Mrs. Jacques Heath (Lily May Peel)\"},\n",
        "5  : {\"survived\":0, \"fare\":8.05,  \"age\": 35,\"name\":\"Allen, Mr. William Henry\"},\n",
        "6  : {\"survived\":0, \"fare\":8.4583,  \"age\": 0,\"name\":\"Moran, Mr. James\"},\n",
        "7  : {\"survived\":0, \"fare\":51.8625,  \"age\": 54,\"name\":\"McCarthy, Mr. Timothy J\"},\n",
        "8  : {\"survived\":0, \"fare\":21.075,  \"age\": 2,\"name\":\"Palsson, Master. Gosta Leonard\"},\n",
        "9  : {\"survived\":1, \"fare\":11.1333,  \"age\": 27,\"name\":\"Johnson, Mrs. Oscar W (Elisabeth Vilhelmina Berg)\"},\n",
        "10 : {\"survived\":1, \"fare\":30.0708,  \"age\": 14,\"name\":\"Nasser, Mrs. Nicholas (Adele Achem)\"},\n",
        "11 : {\"survived\":1, \"fare\":16.7,  \"age\": 4,\"name\":\"Sandstrom, Miss. Marguerite Rut\"},\n",
        "12 : {\"survived\":1, \"fare\":26.55,  \"age\": 58,\"name\":\"Bonnell, Miss. Elizabeth\"},\n",
        "13 : {\"survived\":0, \"fare\":8.05,  \"age\": 20,\"name\":\"Saundercock, Mr. William Henry\"},\n",
        "14 : {\"survived\":0, \"fare\":31.275,  \"age\": 39,\"name\":\"Andersson, Mr. Anders Johan\"},\n",
        "15 : {\"survived\":0, \"fare\":7.8542,  \"age\": 14,\"name\":\"Vestrom, Miss. Hulda Amanda Adolfina\"},\n",
        "16 : {\"survived\":1, \"fare\":16,  \"age\": 55,\"name\":\"Hewlett, Mrs. (Mary D Kingcome) \"},\n",
        "17 : {\"survived\":0, \"fare\":29.125,  \"age\": 2,\"name\":\"Rice, Master. Eugene\"},\n",
        "18 : {\"survived\":1, \"fare\":13,  \"age\": 0,\"name\":\"Williams, Mr. Charles Eugene\"},\n",
        "19 : {\"survived\":0, \"fare\":18,  \"age\": 31,\"name\":\"Vander Planke, Mrs. Julius (Emelia Maria Vandemoortele)\"},\n",
        "20 : {\"survived\":1, \"fare\":7.225,  \"age\": 0,\"name\":\"Masselmani, Mrs. Fatima\"},\n",
        "21 : {\"survived\":0, \"fare\":26,  \"age\": 35,\"name\":\"Fynney, Mr. Joseph J\"}\n",
        "}\n",
        "\n",
        "pl=[x for x in ttd if ttd[x][\"survived\"]==1]\n",
        "pl"
      ],
      "metadata": {
        "id": "hmDUlMqrtb23",
        "colab": {
          "base_uri": "https://localhost:8080/"
        },
        "outputId": "3be8be76-5e2e-4456-e28b-c8bd919daa11"
      },
      "execution_count": null,
      "outputs": [
        {
          "output_type": "execute_result",
          "data": {
            "text/plain": [
              "[2, 3, 4, 9, 10, 11, 12, 16, 18, 20]"
            ]
          },
          "metadata": {},
          "execution_count": 10
        }
      ]
    },
    {
      "cell_type": "code",
      "source": [
        "from re import X\n",
        "ttl= [\n",
        "{\"survived\":0, \"fare\":7.25,  \"age\": 22,\"name\":\"Braund, Mr. Owen Harris\"},\n",
        "{\"survived\":1, \"fare\":71.2833,  \"age\": 38,\"name\":\"Cumings, Mrs. John Bradley (Florence Briggs Thayer)\"},\n",
        "{\"survived\":1, \"fare\":7.925,  \"age\": 26,\"name\":\"Heikkinen, Miss. Laina\"},\n",
        "{\"survived\":1, \"fare\":53.1,  \"age\": 35,\"name\":\"Futrelle, Mrs. Jacques Heath (Lily May Peel)\"},\n",
        "{\"survived\":0, \"fare\":8.05,  \"age\": 35,\"name\":\"Allen, Mr. William Henry\"},\n",
        "{\"survived\":0, \"fare\":8.4583,  \"age\": 0,\"name\":\"Moran, Mr. James\"},\n",
        "{\"survived\":0, \"fare\":51.8625,  \"age\": 54,\"name\":\"McCarthy, Mr. Timothy J\"},\n",
        "{\"survived\":0, \"fare\":21.075,  \"age\": 2,\"name\":\"Palsson, Master. Gosta Leonard\"},\n",
        "{\"survived\":1, \"fare\":11.1333,  \"age\": 27,\"name\":\"Johnson, Mrs. Oscar W (Elisabeth Vilhelmina Berg)\"},\n",
        "{\"survived\":1, \"fare\":30.0708,  \"age\": 14,\"name\":\"Nasser, Mrs. Nicholas (Adele Achem)\"},\n",
        "{\"survived\":1, \"fare\":16.7,  \"age\": 4,\"name\":\"Sandstrom, Miss. Marguerite Rut\"},\n",
        "{\"survived\":1, \"fare\":26.55,  \"age\": 58,\"name\":\"Bonnell, Miss. Elizabeth\"},\n",
        "{\"survived\":0, \"fare\":8.05,  \"age\": 20,\"name\":\"Saundercock, Mr. William Henry\"},\n",
        "{\"survived\":0, \"fare\":31.275,  \"age\": 39,\"name\":\"Andersson, Mr. Anders Johan\"},\n",
        "{\"survived\":0, \"fare\":7.8542,  \"age\": 14,\"name\":\"Vestrom, Miss. Hulda Amanda Adolfina\"},\n",
        "{\"survived\":1, \"fare\":16,  \"age\": 55,\"name\":\"Hewlett, Mrs. (Mary D Kingcome) \"},\n",
        "{\"survived\":0, \"fare\":29.125,  \"age\": 2,\"name\":\"Rice, Master. Eugene\"},\n",
        "{\"survived\":1, \"fare\":13,  \"age\": 0,\"name\":\"Williams, Mr. Charles Eugene\"},\n",
        "{\"survived\":0, \"fare\":18,  \"age\": 31,\"name\":\"Vander Planke, Mrs. Julius (Emelia Maria Vandemoortele)\"},\n",
        "{\"survived\":1, \"fare\":7.225,  \"age\": 0,\"name\":\"Masselmani, Mrs. Fatima\"},\n",
        "{\"survived\":0, \"fare\":26,  \"age\": 35,\"name\":\"Fynney, Mr. Joseph J\"}\n",
        "]\n",
        "\n",
        "sl=[x['name'] for x in ttl if x['survived']==0]\n",
        "\n",
        "p1=[x['fare'] for x in ttl if x['survived']==1]\n",
        "p0=[x['fare'] for x in ttl if x['survived']==0]\n",
        "print(p1)\n",
        "print(p0)\n",
        "\n",
        "p1s=0\n",
        "for x in p1:\n",
        "  p1s=p1s+x\n",
        "print(p1s)\n",
        "\n",
        "p0s=0\n",
        "for x in p0:\n",
        "  p0s=p0s+x\n",
        "print(p0s)\n",
        "# \n",
        "print(p0s/len(p0))\n",
        "print(p1s/len(p1))"
      ],
      "metadata": {
        "colab": {
          "base_uri": "https://localhost:8080/"
        },
        "id": "3PshUX9StOv4",
        "outputId": "59d3ab9b-4c9f-408e-cae1-981ec2d06fdc"
      },
      "execution_count": null,
      "outputs": [
        {
          "output_type": "stream",
          "name": "stdout",
          "text": [
            "[71.2833, 7.925, 53.1, 11.1333, 30.0708, 16.7, 26.55, 16, 13, 7.225]\n",
            "[7.25, 8.05, 8.4583, 51.8625, 21.075, 8.05, 31.275, 7.8542, 29.125, 18, 26]\n",
            "252.98739999999998\n",
            "217.0\n",
            "19.727272727272727\n",
            "25.29874\n"
          ]
        }
      ]
    }
  ]
}