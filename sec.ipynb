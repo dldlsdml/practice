{
  "nbformat": 4,
  "nbformat_minor": 0,
  "metadata": {
    "colab": {
      "provenance": [],
      "authorship_tag": "ABX9TyNIIcrP+WXLnyBDVxffMCDR",
      "include_colab_link": true
    },
    "kernelspec": {
      "name": "python3",
      "display_name": "Python 3"
    },
    "language_info": {
      "name": "python"
    }
  },
  "cells": [
    {
      "cell_type": "markdown",
      "metadata": {
        "id": "view-in-github",
        "colab_type": "text"
      },
      "source": [
        "<a href=\"https://colab.research.google.com/github/dldlsdml/practice/blob/main/sec.ipynb\" target=\"_parent\"><img src=\"https://colab.research.google.com/assets/colab-badge.svg\" alt=\"Open In Colab\"/></a>"
      ]
    },
    {
      "cell_type": "code",
      "execution_count": null,
      "metadata": {
        "colab": {
          "base_uri": "https://localhost:8080/"
        },
        "id": "73OYCa7ukC2c",
        "outputId": "fb77cc0a-1155-4380-c984-915a57399104"
      },
      "outputs": [
        {
          "output_type": "stream",
          "name": "stdout",
          "text": [
            "['apple', 'grape']\n"
          ]
        }
      ],
      "source": [
        "al=[\"peach\",\"apple\",\"grape\",\"banana\"]\n",
        "print(al[1:3])  #slice하는 방법;콜론옆에포함x\n",
        "\n"
      ]
    },
    {
      "cell_type": "code",
      "source": [
        "ttl= [\n",
        "{\"survived\":0, \"fare\":7.25,  \"age\": 22,\"name\":\"Braund, Mr. Owen Harris\"},\n",
        "{\"survived\":1, \"fare\":71.2833,  \"age\": 38,\"name\":\"Cumings, Mrs. John Bradley (Florence Briggs Thayer)\"},\n",
        "{\"survived\":1, \"fare\":7.925,  \"age\": 26,\"name\":\"Heikkinen, Miss. Laina\"},\n",
        "{\"survived\":1, \"fare\":53.1,  \"age\": 35,\"name\":\"Futrelle, Mrs. Jacques Heath (Lily May Peel)\"},\n",
        "{\"survived\":0, \"fare\":8.05,  \"age\": 35,\"name\":\"Allen, Mr. William Henry\"},\n",
        "{\"survived\":0, \"fare\":8.4583,  \"age\": 0,\"name\":\"Moran, Mr. James\"},\n",
        "{\"survived\":0, \"fare\":51.8625,  \"age\": 54,\"name\":\"McCarthy, Mr. Timothy J\"},\n",
        "{\"survived\":0, \"fare\":21.075,  \"age\": 2,\"name\":\"Palsson, Master. Gosta Leonard\"},\n",
        "{\"survived\":1, \"fare\":11.1333,  \"age\": 27,\"name\":\"Johnson, Mrs. Oscar W (Elisabeth Vilhelmina Berg)\"},\n",
        "{\"survived\":1, \"fare\":30.0708,  \"age\": 14,\"name\":\"Nasser, Mrs. Nicholas (Adele Achem)\"},\n",
        "{\"survived\":1, \"fare\":16.7,  \"age\": 4,\"name\":\"Sandstrom, Miss. Marguerite Rut\"},\n",
        "{\"survived\":1, \"fare\":26.55,  \"age\": 58,\"name\":\"Bonnell, Miss. Elizabeth\"},\n",
        "{\"survived\":0, \"fare\":8.05,  \"age\": 20,\"name\":\"Saundercock, Mr. William Henry\"},\n",
        "{\"survived\":0, \"fare\":31.275,  \"age\": 39,\"name\":\"Andersson, Mr. Anders Johan\"},\n",
        "{\"survived\":0, \"fare\":7.8542,  \"age\": 14,\"name\":\"Vestrom, Miss. Hulda Amanda Adolfina\"},\n",
        "{\"survived\":1, \"fare\":16,  \"age\": 55,\"name\":\"Hewlett, Mrs. (Mary D Kingcome) \"},\n",
        "{\"survived\":0, \"fare\":29.125,  \"age\": 2,\"name\":\"Rice, Master. Eugene\"},\n",
        "{\"survived\":1, \"fare\":13,  \"age\": 0,\"name\":\"Williams, Mr. Charles Eugene\"},\n",
        "{\"survived\":0, \"fare\":18,  \"age\": 31,\"name\":\"Vander Planke, Mrs. Julius (Emelia Maria Vandemoortele)\"},\n",
        "{\"survived\":1, \"fare\":7.225,  \"age\": 0,\"name\":\"Masselmani, Mrs. Fatima\"},\n",
        "{\"survived\":0, \"fare\":26,  \"age\": 35,\"name\":\"Fynney, Mr. Joseph J\"}\n",
        "]\n",
        "\n",
        "p1=[x['age'] for x in ttl if x['survived']==1]\n",
        "p0=[x['age'] for x in ttl if x['survived']==0]\n",
        "\n",
        "p1s=0\n",
        "for x in p1:\n",
        "  p1s=p1s+x\n",
        "\n",
        "p0s=0\n",
        "for x in p0:\n",
        "  p0s=p0s+x\n",
        "\n",
        "print(p0s/len(p0))\n",
        "print(p1s/len(p1))\n",
        "\n",
        "#산사람&죽은사람 나이 평균 구하기, len은 문자 하나하나\n"
      ],
      "metadata": {
        "colab": {
          "base_uri": "https://localhost:8080/"
        },
        "id": "5OJvlpUK_Wj-",
        "outputId": "703e8b73-ee9c-4235-c6b5-324d65b8f614"
      },
      "execution_count": 2,
      "outputs": [
        {
          "output_type": "stream",
          "name": "stdout",
          "text": [
            "23.09090909090909\n",
            "25.7\n"
          ]
        }
      ]
    }
  ]
}